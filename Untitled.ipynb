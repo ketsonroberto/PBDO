{
 "cells": [
  {
   "cell_type": "code",
   "execution_count": 1,
   "metadata": {},
   "outputs": [],
   "source": [
    "import matplotlib.pyplot as plt\n",
    "import numpy as np\n",
    "from StochasticMechanics import Stochastic\n",
    "from scipy.optimize import minimize\n",
    "from Performance import PerformanceOpt\n",
    "from Hazards import Stationary\n",
    "from Building import *\n",
    "from BuildingProperties import *"
   ]
  },
  {
   "cell_type": "code",
   "execution_count": 2,
   "metadata": {},
   "outputs": [],
   "source": [
    "freq = np.linspace(0.00001, 20, 500)\n",
    "\n",
    "gamma = np.ones((ndof)) * [0.5]\n",
    "nu = np.ones((ndof)) * [0.5]\n",
    "alpha = np.ones((ndof)) * [1]\n",
    "\n",
    "a = np.ones((ndof)) * [1]\n",
    "#ksi = [0.05, 0.05]\n",
    "ksi = np.ones((ndof)) * [0.05]\n",
    "ksi = ksi.tolist()"
   ]
  },
  {
   "cell_type": "code",
   "execution_count": 3,
   "metadata": {},
   "outputs": [],
   "source": [
    "im_max = 30\n",
    "B_max = 1"
   ]
  },
  {
   "cell_type": "code",
   "execution_count": 4,
   "metadata": {},
   "outputs": [],
   "source": [
    "Ps = Stationary(power_spectrum_object='windpsd', ndof=ndof)\n",
    "power_spectrum, U = Ps.power_spectrum_excitation(u10=6.2371, freq=freq, z=z)\n",
    "\n",
    "ks=[]\n",
    "ms=[]\n",
    "msf=[]\n",
    "cost=[]\n",
    "nlc=100\n",
    "lc = np.linspace(0.05,2,nlc)"
   ]
  },
  {
   "cell_type": "code",
   "execution_count": 5,
   "metadata": {},
   "outputs": [],
   "source": [
    "columns = update_columns(columns=columns, lx=0.4, ly=0.4)\n",
    "\n",
    "Building = Structure(building, columns, slabs, core, concrete, steel)\n",
    "k_story = Building.stiffness_story()\n",
    "m_story = Building.mass_storey(top_story=False)\n",
    "m_story_f = Building.mass_storey(top_story=True)\n",
    "\n",
    "k = np.ones(ndof) * [k_story]\n",
    "m = np.ones(ndof) * [m_story]\n",
    "m[-1] = m_story_f\n",
    "\n",
    "length = 0.3\n",
    "size_col = np.ones(ndof) * [length]\n",
    "\n",
    "Opt = PerformanceOpt(power_spectrum=power_spectrum, model='bouc_wen', freq=freq, tol=1e-5, maxiter=100,\n",
    "                     design_life=50)"
   ]
  },
  {
   "cell_type": "code",
   "execution_count": 57,
   "metadata": {},
   "outputs": [],
   "source": [
    "#args=[ksi, im_max, B_max, gamma, nu, alpha, a]\n",
    "#size_col = np.ones((ndof)) * [0.15]\n",
    "#total_cost = Opt.objective_function_sto(size_col=size_col, args=args)\n",
    "\n",
    "#im_ = 30+np.random.rand()*50\n",
    "#B_  = np.random.rand()/10\n",
    "\n",
    "im_ = 30\n",
    "B_  = 0.2\n",
    "nsim = 1\n",
    "\n",
    "#print([im_, B_])\n",
    "lc=0.2\n",
    "#size_col = np.array([lc, lc])\n",
    "size_col = np.ones(ndof) * [lc]\n",
    "\n",
    "args=[ksi, im_, B_, gamma, nu, alpha, a, nsim]\n",
    "\n",
    "tc = []\n",
    "for i in range(100):\n",
    "    total_cost = Opt.objective_function_sto(size_col=size_col, args=args)\n",
    "    tc.append(total_cost)\n",
    "\n",
    "\n",
    "#1730733208.074694\n",
    "\n"
   ]
  },
  {
   "cell_type": "code",
   "execution_count": 58,
   "metadata": {},
   "outputs": [
    {
     "name": "stdout",
     "output_type": "stream",
     "text": [
      "690112513.7416686\n"
     ]
    },
    {
     "data": {
      "image/png": "[encoded data removed]",
      "text/plain": [
       "<Figure size 432x288 with 1 Axes>"
      ]
     },
     "metadata": {
      "needs_background": "light"
     },
     "output_type": "display_data"
    }
   ],
   "source": [
    "plt.plot(tc,'.')\n",
    "#plt.plot([0,100],[1730733208.074694*15,1730733208.074694*15])\n",
    "plt.plot([0,100],[np.mean(tc),np.mean(tc)])\n",
    "print(np.mean(tc))\n",
    "#570375046.7526975"
   ]
  },
  {
   "cell_type": "code",
   "execution_count": 7,
   "metadata": {},
   "outputs": [
    {
     "name": "stdout",
     "output_type": "stream",
     "text": [
      "0.5\n"
     ]
    },
    {
     "ename": "KeyboardInterrupt",
     "evalue": "",
     "output_type": "error",
     "traceback": [
      "\u001b[0;31m---------------------------------------------------------------------------\u001b[0m",
      "\u001b[0;31mKeyboardInterrupt\u001b[0m                         Traceback (most recent call last)",
      "\u001b[0;32m<ipython-input-7-ac732f448fef>\u001b[0m in \u001b[0;36m<module>\u001b[0;34m\u001b[0m\n\u001b[1;32m      9\u001b[0m     \u001b[0;31m# size_col = np.array([lc, lc])\u001b[0m\u001b[0;34m\u001b[0m\u001b[0;34m\u001b[0m\u001b[0;34m\u001b[0m\u001b[0m\n\u001b[1;32m     10\u001b[0m     \u001b[0msize_col\u001b[0m \u001b[0;34m=\u001b[0m \u001b[0mnp\u001b[0m\u001b[0;34m.\u001b[0m\u001b[0mones\u001b[0m\u001b[0;34m(\u001b[0m\u001b[0;34m(\u001b[0m\u001b[0mndof\u001b[0m\u001b[0;34m)\u001b[0m\u001b[0;34m)\u001b[0m \u001b[0;34m*\u001b[0m \u001b[0;34m[\u001b[0m\u001b[0mlc\u001b[0m\u001b[0;34m]\u001b[0m\u001b[0;34m\u001b[0m\u001b[0;34m\u001b[0m\u001b[0m\n\u001b[0;32m---> 11\u001b[0;31m     \u001b[0mtotal_cost\u001b[0m \u001b[0;34m=\u001b[0m \u001b[0mOpt\u001b[0m\u001b[0;34m.\u001b[0m\u001b[0mobjective_function\u001b[0m\u001b[0;34m(\u001b[0m\u001b[0msize_col\u001b[0m\u001b[0;34m=\u001b[0m\u001b[0msize_col\u001b[0m\u001b[0;34m,\u001b[0m \u001b[0margs\u001b[0m\u001b[0;34m=\u001b[0m\u001b[0margs\u001b[0m\u001b[0;34m)\u001b[0m\u001b[0;34m\u001b[0m\u001b[0;34m\u001b[0m\u001b[0m\n\u001b[0m\u001b[1;32m     12\u001b[0m     \u001b[0mtotc\u001b[0m\u001b[0;34m.\u001b[0m\u001b[0mappend\u001b[0m\u001b[0;34m(\u001b[0m\u001b[0mtotal_cost\u001b[0m\u001b[0;34m)\u001b[0m\u001b[0;34m\u001b[0m\u001b[0;34m\u001b[0m\u001b[0m\n\u001b[1;32m     13\u001b[0m     \u001b[0;31m#inic.append(initial_cost)\u001b[0m\u001b[0;34m\u001b[0m\u001b[0;34m\u001b[0m\u001b[0;34m\u001b[0m\u001b[0m\n",
      "\u001b[0;32m~/Dropbox/Research/1-CURRENT/PBE_OPT/Project/Performance.py\u001b[0m in \u001b[0;36mobjective_function\u001b[0;34m(self, size_col, args)\u001b[0m\n\u001b[1;32m     90\u001b[0m         financial_loss_rate = PerformanceOpt.annual_financial_loss(self, M=M, C=C, K=K, stiff=k, im_max=im_max,\n\u001b[1;32m     91\u001b[0m                                                                    \u001b[0mB_max\u001b[0m\u001b[0;34m=\u001b[0m\u001b[0mB_max\u001b[0m\u001b[0;34m,\u001b[0m \u001b[0msize_col\u001b[0m\u001b[0;34m=\u001b[0m\u001b[0msize_col\u001b[0m\u001b[0;34m,\u001b[0m \u001b[0mgamma\u001b[0m\u001b[0;34m=\u001b[0m\u001b[0mgamma\u001b[0m\u001b[0;34m,\u001b[0m \u001b[0mnu\u001b[0m\u001b[0;34m=\u001b[0m\u001b[0mnu\u001b[0m\u001b[0;34m,\u001b[0m\u001b[0;34m\u001b[0m\u001b[0;34m\u001b[0m\u001b[0m\n\u001b[0;32m---> 92\u001b[0;31m                                                                    alpha=alpha, a=a)\n\u001b[0m\u001b[1;32m     93\u001b[0m \u001b[0;34m\u001b[0m\u001b[0m\n\u001b[1;32m     94\u001b[0m         \u001b[0mtotal_loss\u001b[0m \u001b[0;34m=\u001b[0m \u001b[0mfinancial_loss_rate\u001b[0m \u001b[0;34m*\u001b[0m \u001b[0mself\u001b[0m\u001b[0;34m.\u001b[0m\u001b[0mdesign_life\u001b[0m\u001b[0;34m\u001b[0m\u001b[0;34m\u001b[0m\u001b[0m\n",
      "\u001b[0;32m~/Dropbox/Research/1-CURRENT/PBE_OPT/Project/Performance.py\u001b[0m in \u001b[0;36mannual_financial_loss\u001b[0;34m(self, M, C, K, stiff, im_max, B_max, size_col, **kwargs)\u001b[0m\n\u001b[1;32m    175\u001b[0m                                                   dry_wall_area=dry_wall_area)\n\u001b[1;32m    176\u001b[0m                     Cf1 = CostFailure.cost_damage(b=B + h, col_size=size_col[j], L=L, ncolumns=ncolumns,\n\u001b[0;32m--> 177\u001b[0;31m                                                   dry_wall_area=dry_wall_area)\n\u001b[0m\u001b[1;32m    178\u001b[0m \u001b[0;34m\u001b[0m\u001b[0m\n\u001b[1;32m    179\u001b[0m                     \u001b[0mCf\u001b[0m \u001b[0;34m=\u001b[0m \u001b[0mabs\u001b[0m\u001b[0;34m(\u001b[0m\u001b[0;34m(\u001b[0m\u001b[0mCf1\u001b[0m \u001b[0;34m-\u001b[0m \u001b[0mCf0\u001b[0m\u001b[0;34m)\u001b[0m \u001b[0;34m/\u001b[0m \u001b[0;34m(\u001b[0m\u001b[0;36m2\u001b[0m \u001b[0;34m*\u001b[0m \u001b[0mh\u001b[0m\u001b[0;34m)\u001b[0m\u001b[0;34m)\u001b[0m\u001b[0;34m\u001b[0m\u001b[0;34m\u001b[0m\u001b[0m\n",
      "\u001b[0;32m~/Dropbox/Research/1-CURRENT/PBE_OPT/Project/Building.py\u001b[0m in \u001b[0;36mcost_damage\u001b[0;34m(self, b, col_size, L, ncolumns, dry_wall_area)\u001b[0m\n\u001b[1;32m    372\u001b[0m         \u001b[0mk_col\u001b[0m \u001b[0;34m=\u001b[0m \u001b[0mStructure\u001b[0m\u001b[0;34m.\u001b[0m\u001b[0mstiffness\u001b[0m\u001b[0;34m(\u001b[0m\u001b[0mself\u001b[0m\u001b[0;34m,\u001b[0m \u001b[0marea\u001b[0m\u001b[0;34m=\u001b[0m\u001b[0marea_col\u001b[0m\u001b[0;34m,\u001b[0m \u001b[0mmoment_inertia\u001b[0m\u001b[0;34m=\u001b[0m\u001b[0mmoment_inertia_col\u001b[0m\u001b[0;34m,\u001b[0m \u001b[0mheight\u001b[0m\u001b[0;34m=\u001b[0m\u001b[0mL\u001b[0m\u001b[0;34m)\u001b[0m\u001b[0;34m\u001b[0m\u001b[0;34m\u001b[0m\u001b[0m\n\u001b[1;32m    373\u001b[0m \u001b[0;34m\u001b[0m\u001b[0m\n\u001b[0;32m--> 374\u001b[0;31m         \u001b[0mMom\u001b[0m\u001b[0;34m,\u001b[0m \u001b[0mphi\u001b[0m \u001b[0;34m=\u001b[0m \u001b[0mCosts\u001b[0m\u001b[0;34m.\u001b[0m\u001b[0mcompression\u001b[0m\u001b[0;34m(\u001b[0m\u001b[0mself\u001b[0m\u001b[0;34m,\u001b[0m \u001b[0mcol_size\u001b[0m\u001b[0;34m=\u001b[0m\u001b[0mcol_size\u001b[0m\u001b[0;34m,\u001b[0m \u001b[0mL\u001b[0m\u001b[0;34m=\u001b[0m\u001b[0mL\u001b[0m\u001b[0;34m)\u001b[0m\u001b[0;34m\u001b[0m\u001b[0;34m\u001b[0m\u001b[0m\n\u001b[0m\u001b[1;32m    375\u001b[0m         \u001b[0mddi\u001b[0m \u001b[0;34m=\u001b[0m \u001b[0mCosts\u001b[0m\u001b[0;34m.\u001b[0m\u001b[0mdeformation_damage_index\u001b[0m\u001b[0;34m(\u001b[0m\u001b[0mself\u001b[0m\u001b[0;34m,\u001b[0m \u001b[0mB\u001b[0m\u001b[0;34m=\u001b[0m\u001b[0mb\u001b[0m\u001b[0;34m,\u001b[0m \u001b[0mstiffness\u001b[0m\u001b[0;34m=\u001b[0m\u001b[0mk_col\u001b[0m\u001b[0;34m,\u001b[0m \u001b[0mMom\u001b[0m\u001b[0;34m=\u001b[0m\u001b[0mMom\u001b[0m\u001b[0;34m,\u001b[0m \u001b[0mphi\u001b[0m\u001b[0;34m=\u001b[0m\u001b[0mphi\u001b[0m\u001b[0;34m)\u001b[0m\u001b[0;34m\u001b[0m\u001b[0;34m\u001b[0m\u001b[0m\n\u001b[1;32m    376\u001b[0m \u001b[0;34m\u001b[0m\u001b[0m\n",
      "\u001b[0;32m~/Dropbox/Research/1-CURRENT/PBE_OPT/Project/Building.py\u001b[0m in \u001b[0;36mcompression\u001b[0;34m(self, col_size, L)\u001b[0m\n\u001b[1;32m    202\u001b[0m         \u001b[0mfs_prime\u001b[0m \u001b[0;34m=\u001b[0m \u001b[0mcopy\u001b[0m\u001b[0;34m.\u001b[0m\u001b[0mcopy\u001b[0m\u001b[0;34m(\u001b[0m\u001b[0mfy\u001b[0m\u001b[0;34m)\u001b[0m\u001b[0;34m\u001b[0m\u001b[0;34m\u001b[0m\u001b[0m\n\u001b[1;32m    203\u001b[0m         \u001b[0;32mwhile\u001b[0m \u001b[0mabs\u001b[0m\u001b[0;34m(\u001b[0m\u001b[0mc\u001b[0m \u001b[0;34m/\u001b[0m \u001b[0mct\u001b[0m \u001b[0;34m-\u001b[0m \u001b[0;36m1\u001b[0m\u001b[0;34m)\u001b[0m \u001b[0;34m>\u001b[0m \u001b[0;36m0.0002\u001b[0m \u001b[0;32mand\u001b[0m \u001b[0mcont\u001b[0m \u001b[0;34m<\u001b[0m \u001b[0;36m100\u001b[0m\u001b[0;34m:\u001b[0m\u001b[0;34m\u001b[0m\u001b[0;34m\u001b[0m\u001b[0m\n\u001b[0;32m--> 204\u001b[0;31m             \u001b[0mc\u001b[0m \u001b[0;34m=\u001b[0m \u001b[0;34m(\u001b[0m\u001b[0mAs\u001b[0m \u001b[0;34m*\u001b[0m \u001b[0mfy\u001b[0m \u001b[0;34m-\u001b[0m \u001b[0mAs_prime\u001b[0m \u001b[0;34m*\u001b[0m \u001b[0mfs_prime\u001b[0m\u001b[0;34m)\u001b[0m \u001b[0;34m/\u001b[0m \u001b[0;34m(\u001b[0m\u001b[0;36m0.85\u001b[0m \u001b[0;34m*\u001b[0m \u001b[0mfc_prime\u001b[0m \u001b[0;34m*\u001b[0m \u001b[0mb\u001b[0m \u001b[0;34m*\u001b[0m \u001b[0mb1\u001b[0m\u001b[0;34m)\u001b[0m\u001b[0;34m\u001b[0m\u001b[0;34m\u001b[0m\u001b[0m\n\u001b[0m\u001b[1;32m    205\u001b[0m             \u001b[0;32mif\u001b[0m \u001b[0mc\u001b[0m\u001b[0;34m==\u001b[0m\u001b[0;36m0\u001b[0m\u001b[0;34m:\u001b[0m\u001b[0;34m\u001b[0m\u001b[0;34m\u001b[0m\u001b[0m\n\u001b[1;32m    206\u001b[0m                 \u001b[0mc\u001b[0m\u001b[0;34m=\u001b[0m\u001b[0;36m0.00000000001\u001b[0m\u001b[0;34m\u001b[0m\u001b[0;34m\u001b[0m\u001b[0m\n",
      "\u001b[0;31mKeyboardInterrupt\u001b[0m: "
     ]
    }
   ],
   "source": [
    "lcol = np.linspace(0.5,0.7,10)\n",
    "\n",
    "totc = []\n",
    "inic = []\n",
    "totl = []\n",
    "for lc in lcol:\n",
    "    print(lc)\n",
    "    args=[ksi, im_max, B_max, gamma, nu, alpha, a]\n",
    "    # size_col = np.array([lc, lc])\n",
    "    size_col = np.ones((ndof)) * [lc]\n",
    "    total_cost = Opt.objective_function(size_col=size_col, args=args)\n",
    "    totc.append(total_cost)\n",
    "    #inic.append(initial_cost)\n",
    "    #totl.append(total_loss)\n",
    "    "
   ]
  },
  {
   "cell_type": "code",
   "execution_count": 15,
   "metadata": {},
   "outputs": [
    {
     "data": {
      "image/png": "[encoded data removed]",
      "text/plain": [
       "<Figure size 432x288 with 1 Axes>"
      ]
     },
     "metadata": {
      "needs_background": "light"
     },
     "output_type": "display_data"
    },
    {
     "name": "stdout",
     "output_type": "stream",
     "text": [
      "0.5666666666666667\n"
     ]
    }
   ],
   "source": [
    "plt.semilogy(lcol,totc,'-o')\n",
    "#plt.plot(lcol,inic)\n",
    "#plt.plot(lcol,totl)\n",
    "#plt.ylim(11.8, 11.82)\n",
    "plt.show()\n",
    "\n",
    "print(lcol[totc.index(min(totc))])\n"
   ]
  },
  {
   "cell_type": "code",
   "execution_count": 12,
   "metadata": {},
   "outputs": [
    {
     "data": {
      "text/plain": [
       "\"\\nb0 = np.linspace(0.2,1,5)\\nb1 = np.linspace(0.2,1,5)\\nB0, B1 = np.meshgrid(b0, b1)\\nargs=[ksi, im_max, B_max, gamma, nu, alpha, a]\\ntc = np.zeros((12,12))\\nfor i in range(len(b0)):\\n    print(i)\\n    for j in range(len(b1)):\\n        size_col = np.array([b0[i], b1[j]])\\n        tc[i,j] = Opt.objective_function(size_col=size_col, args=args)\\n\\n\\nZ = tc.reshape(B0.shape)\\n\\nfrom mpl_toolkits.mplot3d import Axes3D\\nfrom mpl_toolkits.mplot3d import proj3d\\nfrom matplotlib import cm\\n\\nfig = plt.figure()\\nax = fig.add_subplot(111, projection='3d')\\nax.plot_surface(B0, B1, Z)\\nax.set_xlabel('X Label')\\nax.set_ylabel('Y Label')\\nax.set_zlabel('Z Label')\\nplt.show()\\n\""
      ]
     },
     "execution_count": 12,
     "metadata": {},
     "output_type": "execute_result"
    }
   ],
   "source": [
    "\"\"\"\n",
    "b0 = np.linspace(0.2,1,5)\n",
    "b1 = np.linspace(0.2,1,5)\n",
    "B0, B1 = np.meshgrid(b0, b1)\n",
    "args=[ksi, im_max, B_max, gamma, nu, alpha, a]\n",
    "tc = np.zeros((12,12))\n",
    "for i in range(len(b0)):\n",
    "    print(i)\n",
    "    for j in range(len(b1)):\n",
    "        size_col = np.array([b0[i], b1[j]])\n",
    "        tc[i,j] = Opt.objective_function(size_col=size_col, args=args)\n",
    "\n",
    "\n",
    "Z = tc.reshape(B0.shape)\n",
    "\n",
    "from mpl_toolkits.mplot3d import Axes3D\n",
    "from mpl_toolkits.mplot3d import proj3d\n",
    "from matplotlib import cm\n",
    "\n",
    "fig = plt.figure()\n",
    "ax = fig.add_subplot(111, projection='3d')\n",
    "ax.plot_surface(B0, B1, Z)\n",
    "ax.set_xlabel('X Label')\n",
    "ax.set_ylabel('Y Label')\n",
    "ax.set_zlabel('Z Label')\n",
    "plt.show()\n",
    "\"\"\""
   ]
  },
  {
   "cell_type": "code",
   "execution_count": 8,
   "metadata": {},
   "outputs": [
    {
     "data": {
      "text/plain": [
       "\"\\nfrom mpl_toolkits.mplot3d import Axes3D\\nfrom mpl_toolkits.mplot3d import proj3d\\nfrom matplotlib import cm\\n\\nfig = plt.figure()\\nax = fig.add_subplot(111, projection='3d')\\nax.plot_surface(B0, B1, Z)\\nax.set_xlabel('X Label')\\nax.set_ylabel('Y Label')\\nax.set_zlabel('Z Label')\\nplt.show()\\n\\nid1=5\\nid2=5\\nplt.semilogy(B0[id1,:],Z[id1,:])\\nplt.semilogy(B1[:,id2],Z[:,id2])\\n\\nprint([B1[id1,0],B0[0,id2]])\\n\\n\""
      ]
     },
     "execution_count": 8,
     "metadata": {},
     "output_type": "execute_result"
    }
   ],
   "source": [
    "\"\"\"\n",
    "from mpl_toolkits.mplot3d import Axes3D\n",
    "from mpl_toolkits.mplot3d import proj3d\n",
    "from matplotlib import cm\n",
    "\n",
    "fig = plt.figure()\n",
    "ax = fig.add_subplot(111, projection='3d')\n",
    "ax.plot_surface(B0, B1, Z)\n",
    "ax.set_xlabel('X Label')\n",
    "ax.set_ylabel('Y Label')\n",
    "ax.set_zlabel('Z Label')\n",
    "plt.show()\n",
    "\n",
    "id1=5\n",
    "id2=5\n",
    "plt.semilogy(B0[id1,:],Z[id1,:])\n",
    "plt.semilogy(B1[:,id2],Z[:,id2])\n",
    "\n",
    "print([B1[id1,0],B0[0,id2]])\n",
    "\n",
    "\"\"\""
   ]
  },
  {
   "cell_type": "code",
   "execution_count": 9,
   "metadata": {},
   "outputs": [
    {
     "data": {
      "text/plain": [
       "'\\nzr = np.reshape(Z,(144,1))\\nxr = np.reshape(B0,(144,1))\\nyr = np.reshape(B1,(144,1))\\np=np.argmin(zr)\\n\\n\\nprint([xr[p], yr[p]])\\n'"
      ]
     },
     "execution_count": 9,
     "metadata": {},
     "output_type": "execute_result"
    }
   ],
   "source": [
    "\"\"\"\n",
    "zr = np.reshape(Z,(144,1))\n",
    "xr = np.reshape(B0,(144,1))\n",
    "yr = np.reshape(B1,(144,1))\n",
    "p=np.argmin(zr)\n",
    "\n",
    "\n",
    "print([xr[p], yr[p]])\n",
    "\"\"\""
   ]
  },
  {
   "cell_type": "code",
   "execution_count": 10,
   "metadata": {},
   "outputs": [],
   "source": [
    "#bnds = []\n",
    "#for i in range(ndof):\n",
    "#    bnds.append((0.1, 0.5))\n",
    "#\n",
    "#bnds=tuple(bnds)\n",
    "#res = minimize(Opt.objective_function, x0=size_col, args=[ksi, im_max, B_max, gamma, nu, alpha, a], bounds=bnds)"
   ]
  },
  {
   "cell_type": "code",
   "execution_count": 43,
   "metadata": {},
   "outputs": [
    {
     "name": "stdout",
     "output_type": "stream",
     "text": [
      "Automatically created module for IPython interactive environment\n"
     ]
    },
    {
     "data": {
      "text/plain": [
       "<matplotlib.legend.Legend at 0x7fa62987b950>"
      ]
     },
     "execution_count": 43,
     "metadata": {},
     "output_type": "execute_result"
    },
    {
     "data": {
      "image/png": "[encoded data removed]",
      "text/plain": [
       "<Figure size 432x288 with 1 Axes>"
      ]
     },
     "metadata": {
      "needs_background": "light"
     },
     "output_type": "display_data"
    }
   ],
   "source": [
    "print(__doc__)\n",
    "\n",
    "import numpy as np\n",
    "from matplotlib import pyplot as plt\n",
    "\n",
    "from sklearn.gaussian_process import GaussianProcessRegressor\n",
    "from sklearn.gaussian_process.kernels import RBF, ConstantKernel as C\n",
    "\n",
    "np.random.seed(1)\n",
    "\n",
    "def f(x):\n",
    "    \"\"\"The function to predict.\"\"\"\n",
    "    return x * np.sin(x)\n",
    "\n",
    "# ----------------------------------------------------------------------\n",
    "#  First the noiseless case\n",
    "X = np.atleast_2d(lcol).T\n",
    "\n",
    "# Observations\n",
    "y = totc\n",
    "\n",
    "# Mesh the input space for evaluations of the real function, the prediction and\n",
    "# its MSE\n",
    "x = np.atleast_2d(np.linspace(np.min(lcol), np.max(lcol), 1000)).T\n",
    "\n",
    "# Instantiate a Gaussian Process model\n",
    "kernel = C(1.0, (1e-3, 1e3)) * RBF(10, (1e-2, 1e2))\n",
    "gp = GaussianProcessRegressor(kernel=kernel, n_restarts_optimizer=9)\n",
    "\n",
    "# Fit to data using Maximum Likelihood Estimation of the parameters\n",
    "gp.fit(X, y)\n",
    "\n",
    "# Make the prediction on the meshed x-axis (ask for MSE as well)\n",
    "y_pred, sigma = gp.predict(x, return_std=True)\n",
    "\n",
    "# Plot the function, the prediction and the 95% confidence interval based on\n",
    "# the MSE\n",
    "plt.figure()\n",
    "#plt.plot(x, f(x), 'r:', label=r'$f(x) = x\\,\\sin(x)$')\n",
    "plt.plot(X, y, 'r-o', markersize=6, label='Observations')\n",
    "plt.plot(x, y_pred, 'b-', label='Prediction')\n",
    "plt.fill(np.concatenate([x, x[::-1]]),\n",
    "         np.concatenate([y_pred - 1.9600 * sigma,\n",
    "                        (y_pred + 1.9600 * sigma)[::-1]]),\n",
    "         alpha=.5, fc='b', ec='None', label='95% confidence interval')\n",
    "plt.xlabel('$x$')\n",
    "plt.ylabel('$f(x)$')\n",
    "#plt.ylim(-10, 20)\n",
    "plt.legend(loc='upper left')\n"
   ]
  },
  {
   "cell_type": "code",
   "execution_count": 35,
   "metadata": {},
   "outputs": [
    {
     "data": {
      "image/png": "[encoded data removed]",
      "text/plain": [
       "<Figure size 432x288 with 1 Axes>"
      ]
     },
     "metadata": {
      "needs_background": "light"
     },
     "output_type": "display_data"
    }
   ],
   "source": [
    "plt.semilogy(x,y_pred)\n",
    "plt.semilogy(X,y)\n",
    "plt.show()"
   ]
  },
  {
   "cell_type": "code",
   "execution_count": 7,
   "metadata": {},
   "outputs": [
    {
     "data": {
      "text/plain": [
       "array([7.3 , 3.65])"
      ]
     },
     "execution_count": 7,
     "metadata": {},
     "output_type": "execute_result"
    }
   ],
   "source": [
    "z"
   ]
  },
  {
   "cell_type": "code",
   "execution_count": 13,
   "metadata": {},
   "outputs": [
    {
     "data": {
      "text/plain": [
       "1"
      ]
     },
     "execution_count": 13,
     "metadata": {},
     "output_type": "execute_result"
    }
   ],
   "source": [
    "B_max"
   ]
  },
  {
   "cell_type": "code",
   "execution_count": null,
   "metadata": {},
   "outputs": [],
   "source": []
  }
 ],
 "metadata": {
  "kernelspec": {
   "display_name": "Python 3",
   "language": "python",
   "name": "python3"
  },
  "language_info": {
   "codemirror_mode": {
    "name": "ipython",
    "version": 3
   },
   "file_extension": ".py",
   "mimetype": "text/x-python",
   "name": "python",
   "nbconvert_exporter": "python",
   "pygments_lexer": "ipython3",
   "version": "3.7.4"
  }
 },
 "nbformat": 4,
 "nbformat_minor": 2
}
