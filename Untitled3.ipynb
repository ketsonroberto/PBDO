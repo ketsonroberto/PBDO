{
 "cells": [
  {
   "cell_type": "code",
   "execution_count": 5,
   "metadata": {},
   "outputs": [
    {
     "data": {
      "text/plain": [
       "'3.7.4'"
      ]
     },
     "execution_count": 5,
     "metadata": {},
     "output_type": "execute_result"
    }
   ],
   "source": [
    "import platform\n",
    "\n",
    "platform.python_version()"
   ]
  },
  {
   "cell_type": "code",
   "execution_count": 2,
   "metadata": {},
   "outputs": [
    {
     "ename": "RuntimeError",
     "evalue": "Python version 3.8 is needed for Mac",
     "output_type": "error",
     "traceback": [
      "\u001b[0;31m---------------------------------------------------------------------------\u001b[0m",
      "\u001b[0;31mRuntimeError\u001b[0m                              Traceback (most recent call last)",
      "\u001b[0;32m<ipython-input-2-d7088e7ad42b>\u001b[0m in \u001b[0;36m<module>\u001b[0;34m\u001b[0m\n\u001b[1;32m      1\u001b[0m \u001b[0;31m#!/usr/bin/env python3\u001b[0m\u001b[0;34m\u001b[0m\u001b[0;34m\u001b[0m\u001b[0;34m\u001b[0m\u001b[0m\n\u001b[1;32m      2\u001b[0m \u001b[0;34m\u001b[0m\u001b[0m\n\u001b[0;32m----> 3\u001b[0;31m \u001b[0;32mfrom\u001b[0m \u001b[0mopenseespy\u001b[0m\u001b[0;34m.\u001b[0m\u001b[0mopensees\u001b[0m \u001b[0;32mimport\u001b[0m \u001b[0;34m*\u001b[0m\u001b[0;34m\u001b[0m\u001b[0;34m\u001b[0m\u001b[0m\n\u001b[0m\u001b[1;32m      4\u001b[0m \u001b[0;34m\u001b[0m\u001b[0m\n\u001b[1;32m      5\u001b[0m \u001b[0;32mimport\u001b[0m \u001b[0mnumpy\u001b[0m \u001b[0;32mas\u001b[0m \u001b[0mnp\u001b[0m\u001b[0;34m\u001b[0m\u001b[0;34m\u001b[0m\u001b[0m\n",
      "\u001b[0;32m/Library/Frameworks/Python.framework/Versions/3.7/lib/python3.7/site-packages/openseespy/opensees/__init__.py\u001b[0m in \u001b[0;36m<module>\u001b[0;34m\u001b[0m\n\u001b[1;32m     48\u001b[0m             \u001b[0;32mraise\u001b[0m \u001b[0mRuntimeError\u001b[0m\u001b[0;34m(\u001b[0m\u001b[0;34m'Failed to import, try use Python from HomeBrew'\u001b[0m\u001b[0;34m)\u001b[0m\u001b[0;34m\u001b[0m\u001b[0;34m\u001b[0m\u001b[0m\n\u001b[1;32m     49\u001b[0m     \u001b[0;32melse\u001b[0m\u001b[0;34m:\u001b[0m\u001b[0;34m\u001b[0m\u001b[0;34m\u001b[0m\u001b[0m\n\u001b[0;32m---> 50\u001b[0;31m         \u001b[0;32mraise\u001b[0m \u001b[0mRuntimeError\u001b[0m\u001b[0;34m(\u001b[0m\u001b[0;34m'Python version 3.8 is needed for Mac'\u001b[0m\u001b[0;34m)\u001b[0m\u001b[0;34m\u001b[0m\u001b[0;34m\u001b[0m\u001b[0m\n\u001b[0m\u001b[1;32m     51\u001b[0m \u001b[0;34m\u001b[0m\u001b[0m\n\u001b[1;32m     52\u001b[0m \u001b[0;34m\u001b[0m\u001b[0m\n",
      "\u001b[0;31mRuntimeError\u001b[0m: Python version 3.8 is needed for Mac"
     ]
    }
   ],
   "source": [
    "\n",
    "\n",
    "from openseespy.opensees import *\n",
    "\n",
    "import numpy as np\n",
    "import matplotlib.pyplot as plt\n",
    "\n",
    "# ------------------------------\n",
    "# Start of model generation\n",
    "# -----------------------------\n",
    "\n",
    "# remove existing model\n",
    "wipe()\n",
    "\n",
    "# set modelbuilder\n",
    "model('basic', '-ndm', 2, '-ndf', 2)\n",
    "\n",
    "# create nodes\n",
    "node(1, 0.0, 0.0)\n",
    "node(2, 144.0,  0.0)\n",
    "node(3, 168.0,  0.0)\n",
    "node(4,  72.0, 96.0)\n",
    "\n",
    "# set boundary condition\n",
    "fix(1, 1, 1)\n",
    "fix(2, 1, 1)\n",
    "fix(3, 1, 1)\n",
    "\n",
    "# define materials\n",
    "uniaxialMaterial(\"Elastic\", 1, 3000.0)\n",
    "\n",
    "# define elements\n",
    "element(\"Truss\",1,1,4,10.0,1)\n",
    "element(\"Truss\",2,2,4,5.0,1)\n",
    "element(\"Truss\",3,3,4,5.0,1)\n",
    "\n",
    "# create TimeSeries\n",
    "timeSeries(\"Linear\", 1)\n",
    "\n",
    "# create a plain load pattern\n",
    "pattern(\"Plain\", 1, 1)\n",
    "\n",
    "# Create the nodal load - command: load nodeID xForce yForce\n",
    "load(4, 100.0, -50.0)\n",
    "\n",
    "# ------------------------------\n",
    "# Start of analysis generation\n",
    "# ------------------------------\n",
    "\n",
    "# create SOE\n",
    "system(\"BandSPD\")\n",
    "\n",
    "# create DOF number\n",
    "numberer(\"RCM\")\n",
    "\n",
    "# create constraint handler\n",
    "constraints(\"Plain\")\n",
    "\n",
    "# create integrator\n",
    "integrator(\"LoadControl\", 1.0)\n",
    "\n",
    "# create algorithm\n",
    "algorithm(\"Linear\")\n",
    "\n",
    "# create analysis object\n",
    "analysis(\"Static\")\n",
    "\n",
    "# perform the analysis\n",
    "analyze(1)\n",
    "\n",
    "ux = nodeDisp(4,1)\n",
    "uy = nodeDisp(4,2)\n",
    "if abs(ux-0.53009277713228375450)<1e-12 and abs(uy+0.17789363846931768864)<1e-12:\n",
    "    print(\"Passed!\")\n",
    "else:\n",
    "    print(\"Failed!\")"
   ]
  },
  {
   "cell_type": "code",
   "execution_count": null,
   "metadata": {},
   "outputs": [],
   "source": []
  }
 ],
 "metadata": {
  "kernelspec": {
   "display_name": "Python 3",
   "language": "python",
   "name": "python3"
  },
  "language_info": {
   "codemirror_mode": {
    "name": "ipython",
    "version": 3
   },
   "file_extension": ".py",
   "mimetype": "text/x-python",
   "name": "python",
   "nbconvert_exporter": "python",
   "pygments_lexer": "ipython3",
   "version": "3.7.4"
  }
 },
 "nbformat": 4,
 "nbformat_minor": 2
}
