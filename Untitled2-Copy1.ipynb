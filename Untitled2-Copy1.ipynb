{
 "cells": [
  {
   "cell_type": "code",
   "execution_count": 1,
   "metadata": {},
   "outputs": [],
   "source": [
    "import matplotlib.pyplot as plt\n",
    "import numpy as np\n",
    "from StochasticMechanics import Stochastic\n",
    "from scipy.optimize import minimize\n",
    "from Performance import PerformanceOpt\n",
    "from Hazards import Stationary\n",
    "from Building import *\n",
    "from BuildingProperties import *\n",
    "from mpl_toolkits.mplot3d import Axes3D\n",
    "from matplotlib import cm\n",
    "from scipy import optimize\n",
    "\n"
   ]
  },
  {
   "cell_type": "code",
   "execution_count": 2,
   "metadata": {},
   "outputs": [],
   "source": [
    "freq = np.linspace(0.00001, 20, 500)\n",
    "\n",
    "gamma = np.ones((ndof)) * [0.5]\n",
    "nu = np.ones((ndof)) * [0.5]\n",
    "alpha = np.ones((ndof)) * [1]\n",
    "\n",
    "m = np.ones((ndof)) * [1]\n",
    "c = np.ones((ndof)) * [1]\n",
    "k = np.ones((ndof)) * [200]\n",
    "a = np.ones((ndof)) * [0.01] #0.01\n",
    "ksi = np.ones((ndof)) * [0.05]\n",
    "# ksi = [0.05, 0.05]\n",
    "\n",
    "im_max = 30\n",
    "B_max = 1\n",
    "\n",
    "# S1 = np.ones(ndof)\n",
    "# Ps = Stationary(power_spectrum_object='white_noise', ndof=ndof)\n",
    "# power_spectrum = Ps.power_spectrum_excitation(freq=freq, S0=S1)\n",
    "\n",
    "# Von Karman\n",
    "Ps = Stationary(power_spectrum_object='windpsd', ndof=ndof)\n",
    "power_spectrum, U = Ps.power_spectrum_excitation(u10=6.2371, freq=freq, z=z)\n",
    "\n",
    "# plt.semilogy(freq/(2*np.pi), power_spectrum[:,0])\n",
    "# plt.show()\n",
    "\n",
    "# columns[\"area\"] = 0.001\n",
    "# columns.update({\"area\": 0.001})\n",
    "\n",
    "ks = []\n",
    "ms = []\n",
    "msf = []\n",
    "#cost = []\n",
    "nlc = 100\n",
    "lc = np.linspace(0.05, 2, nlc)\n",
    "\n",
    "# fig, (ax1, ax2, ax3) = plt.subplots(1, 3)\n",
    "# fig.suptitle('Mass and Stiffness')\n",
    "# ax1.plot(lc,ms)\n",
    "# ax1.plot(lc,msf)\n",
    "# ax2.plot(lc,ks)\n",
    "# ax3.plot(ks,cost)\n",
    "# plt.show()\n",
    "\n",
    "columns = update_columns(columns=columns, lx=0.4, ly=0.4)\n",
    "\n",
    "Building = Structure(building, columns, slabs, core, concrete, steel)\n",
    "k_story = Building.stiffness_story()\n",
    "m_story = Building.mass_storey(top_story=False)\n",
    "m_story_f = Building.mass_storey(top_story=True)\n",
    "\n",
    "k = np.ones(ndof) * [k_story]\n",
    "m = np.ones(ndof) * [m_story]\n",
    "m[-1] = m_story_f\n",
    "\n",
    "length = 0.3\n",
    "size_col = np.ones(ndof) * [length]\n",
    "\n",
    "Opt = PerformanceOpt(power_spectrum=power_spectrum, model='bouc_wen', freq=freq, tol=1e-5, maxiter=100,\n",
    "                     design_life=1)  # design_life = 50\n",
    "\n",
    "# total_cost = Opt.objective_function(size_col=size_col, ksi=ksi, im_max=im_max, B_max=B_max, gamma=gamma, nu=nu,\n",
    "#                                    alpha=alpha, a=a)\n",
    "\n",
    "# print(total_cost)\n",
    "# bnds = []\n",
    "# for i in range(ndof):\n",
    "#    bnds.append((0.1, 0.5))\n",
    "#\n",
    "# bnds=tuple(bnds)\n",
    "# res = minimize(Opt.objective_function, x0=size_col, args=[ksi, im_max, B_max, gamma, nu, alpha, a], bounds=bnds)\n",
    "CostFailure = Costs(building=building, columns=columns, slabs=slabs, core=core, concrete=concrete,\n",
    "                    steel=steel, cost=cost)\n",
    "#size_col = np.ones(ndof) * [0.5]\n",
    "\n"
   ]
  },
  {
   "cell_type": "code",
   "execution_count": 9,
   "metadata": {},
   "outputs": [
    {
     "data": {
      "image/png": "[encoded data removed]",
      "text/plain": [
       "<Figure size 432x288 with 1 Axes>"
      ]
     },
     "metadata": {
      "needs_background": "light"
     },
     "output_type": "display_data"
    }
   ],
   "source": [
    "SP = Stochastic(power_spectrum=power_spectrum, model='bouc_wen', ndof=ndof, freq=freq)\n",
    "\n",
    "for ii in range(100):\n",
    "    length = 1\n",
    "    size_col = np.ones(ndof) * [length]\n",
    "    size_col = 1+0.001*np.random.randn(ndof)\n",
    "\n",
    "    columns = update_columns(columns=columns, lx=size_col, ly=size_col)\n",
    "    Building = Structure(building, columns, slabs, core, concrete, steel, cost)\n",
    "\n",
    "    if len(size_col) != ndof:\n",
    "        raise ValueError('length of size_col is not equal to ndof!')\n",
    "\n",
    "    k = []\n",
    "    for i in range(ndof):\n",
    "        columns = update_columns(columns=columns, lx=size_col[i], ly=size_col[i])\n",
    "        Ix = size_col[i] ** 4 / 12\n",
    "        Iy = Ix  # Square section\n",
    "        area = size_col[i] ** 2  # square section\n",
    "\n",
    "        Building = Structure(building, columns, slabs, core, concrete, steel, cost)\n",
    "        Cost = Costs(building, columns, slabs, core, concrete, steel, cost)\n",
    "        stiffness = Building.stiffness_story()\n",
    "        k.append(stiffness)\n",
    "\n",
    "    k = np.array(k)\n",
    "    mass = Building.mass_storey(top_story=False)\n",
    "    mass_top = Building.mass_storey(top_story=True)\n",
    "    m = np.ones((ndof)) * [mass]\n",
    "    m[-1] = mass_top  # Top floor is m[end] - include water reservoir\n",
    "    # Estimate the damping.\n",
    "\n",
    "    PO=PerformanceOpt(power_spectrum=power_spectrum, model='bouc_wen', freq=freq, tol=1e-5, maxiter=100, design_life=1)\n",
    "\n",
    "    c = PO.linear_damping(m=m, k=k, ksi=ksi)\n",
    "    M, C, K = PO.create_mck(m=m, c=c, k=k, gamma=gamma, nu=nu, alpha=alpha, a=a)\n",
    "\n",
    "    #imvec = np.linspace(0.00001, im_max, Nim)\n",
    "    im = 100\n",
    "    B = 0.0\n",
    "    Ps = Stationary(power_spectrum_object='windpsd', ndof=ndof)\n",
    "    power_spectrum, ub = Ps.power_spectrum_excitation(u10=im, freq=freq, z=z)\n",
    "\n",
    "    Var, Vard = PO.statistical_linearization(M=M, C=C, K=K, power_sp=power_spectrum,tol=1e-5, maxiter=100,\n",
    "                                             gamma=gamma, nu=nu,alpha=alpha, a=a)\n",
    "\n",
    "    \n",
    "    rho = wind[\"rho\"]\n",
    "    Cd = wind[\"Cd\"]\n",
    "    L = columns[\"height\"]\n",
    "    ncolumns = columns[\"quantity\"]\n",
    "    building_area = building[\"height\"] * building[\"width\"]\n",
    "    wind_force = rho * Cd * (building_area / 2) * (ub ** 2)\n",
    "    meanY = PO.linear_mean_response(k, wind_force)\n",
    "    \n",
    "    plt.plot(z,Var,'-')\n",
    "    #plt.show()\n",
    "\n",
    "\n",
    "#plt.plot(size_col,'-o')\n",
    "plt.show()\n",
    "\n",
    "# Uncertainty in stiffness, mass, and damping on high-dimensional dynamical systems under strong excitations\n",
    "\n",
    "\n"
   ]
  },
  {
   "cell_type": "code",
   "execution_count": 10,
   "metadata": {},
   "outputs": [
    {
     "data": {
      "text/plain": [
       "[<matplotlib.lines.Line2D at 0x7fdb085beb90>]"
      ]
     },
     "execution_count": 10,
     "metadata": {},
     "output_type": "execute_result"
    },
    {
     "data": {
      "image/png": "[encoded data removed]",
      "text/plain": [
       "<Figure size 432x288 with 1 Axes>"
      ]
     },
     "metadata": {
      "needs_background": "light"
     },
     "output_type": "display_data"
    }
   ],
   "source": [
    "plt.plot(z,meanY)"
   ]
  },
  {
   "cell_type": "code",
   "execution_count": 11,
   "metadata": {},
   "outputs": [
    {
     "data": {
      "text/plain": [
       "array([91.25, 87.6 , 83.95, 80.3 , 76.65, 73.  , 69.35, 65.7 , 62.05,\n",
       "       58.4 , 54.75, 51.1 , 47.45, 43.8 , 40.15, 36.5 , 32.85, 29.2 ,\n",
       "       25.55, 21.9 , 18.25, 14.6 , 10.95,  7.3 ,  3.65])"
      ]
     },
     "execution_count": 11,
     "metadata": {},
     "output_type": "execute_result"
    }
   ],
   "source": [
    "z"
   ]
  },
  {
   "cell_type": "code",
   "execution_count": 12,
   "metadata": {},
   "outputs": [
    {
     "data": {
      "text/plain": [
       "array([0.46754248, 0.44427947, 0.42118632, 0.3984057 , 0.37577665,\n",
       "       0.35342598, 0.33131271, 0.30962389, 0.28799645, 0.2666477 ,\n",
       "       0.24589165, 0.22544187, 0.2053628 , 0.18566195, 0.16630598,\n",
       "       0.14735332, 0.12892973, 0.11119157, 0.0939058 , 0.0773742 ,\n",
       "       0.06142531, 0.04642435, 0.03247217, 0.01969434, 0.00856221])"
      ]
     },
     "execution_count": 12,
     "metadata": {},
     "output_type": "execute_result"
    }
   ],
   "source": [
    "meanY"
   ]
  },
  {
   "cell_type": "code",
   "execution_count": 13,
   "metadata": {},
   "outputs": [
    {
     "data": {
      "text/plain": [
       "array([ 3.65,  7.3 , 10.95, 14.6 , 18.25, 21.9 , 25.55, 29.2 , 32.85,\n",
       "       36.5 , 40.15, 43.8 , 47.45, 51.1 , 54.75, 58.4 , 62.05, 65.7 ,\n",
       "       69.35, 73.  , 76.65, 80.3 , 83.95, 87.6 , 91.25])"
      ]
     },
     "execution_count": 13,
     "metadata": {},
     "output_type": "execute_result"
    }
   ],
   "source": [
    "np.flipud(z)"
   ]
  },
  {
   "cell_type": "code",
   "execution_count": null,
   "metadata": {},
   "outputs": [],
   "source": []
  }
 ],
 "metadata": {
  "kernelspec": {
   "display_name": "Python 3",
   "language": "python",
   "name": "python3"
  },
  "language_info": {
   "codemirror_mode": {
    "name": "ipython",
    "version": 3
   },
   "file_extension": ".py",
   "mimetype": "text/x-python",
   "name": "python",
   "nbconvert_exporter": "python",
   "pygments_lexer": "ipython3",
   "version": "3.7.4"
  }
 },
 "nbformat": 4,
 "nbformat_minor": 2
}
